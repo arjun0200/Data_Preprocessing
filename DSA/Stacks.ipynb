{
 "cells": [
  {
   "cell_type": "code",
   "execution_count": 1,
   "id": "dd90b14a-e3a4-4368-9d13-95c13e8da59e",
   "metadata": {},
   "outputs": [
    {
     "data": {
      "text/plain": [
       "'Stack '"
      ]
     },
     "execution_count": 1,
     "metadata": {},
     "output_type": "execute_result"
    }
   ],
   "source": [
    "\"\"\"Stack \"\"\""
   ]
  },
  {
   "cell_type": "code",
   "execution_count": 2,
   "id": "6179921f-526f-4f2d-b869-a7b28afb34ba",
   "metadata": {},
   "outputs": [],
   "source": [
    "class Node:\n",
    "\n",
    "    def __init__(self, value):\n",
    "        self.data = value\n",
    "        self.next = None"
   ]
  },
  {
   "cell_type": "code",
   "execution_count": 23,
   "id": "ee23ea71-d2b1-4071-89c0-da4b4ce3b95b",
   "metadata": {},
   "outputs": [],
   "source": [
    "class Stack:\n",
    "\n",
    "    def __init__(self):\n",
    "        self.top = None\n",
    "        self.n = 0\n",
    "\n",
    "    def isempty(self):\n",
    "        return self.top == None\n",
    "\n",
    "    def push(self, value):\n",
    "\n",
    "        new_node = Node(value)\n",
    "        \n",
    "        new_node.next = self.top\n",
    "\n",
    "        self.top = new_node\n",
    "        \n",
    "        self.n = self.n + 1\n",
    "\n",
    "    def peek(self):\n",
    "        if (self.isempty()):\n",
    "            return \"Stack Empty\"\n",
    "\n",
    "        else:\n",
    "            return self.top.data\n",
    "\n",
    "\n",
    "    def pop(self):\n",
    "        if (self.isempty()):\n",
    "            return \"Stack Empty\"\n",
    "        else:\n",
    "            data = self.top.data\n",
    "            self.top = self.top.next #remove from first\n",
    "            return data\n",
    "    \n",
    "    def traverse(self):\n",
    "\n",
    "        temp = self.top\n",
    "\n",
    "        while temp != None:\n",
    "\n",
    "            print(temp.data)\n",
    "            temp = temp.next\n",
    "\n",
    "    def size(self):\n",
    "\n",
    "        temp = self.top\n",
    "        counter = 0\n",
    "    \n",
    "        while temp is not None:\n",
    "          temp = temp.next\n",
    "          counter+=1\n",
    "    \n",
    "        return counter\n"
   ]
  },
  {
   "cell_type": "code",
   "execution_count": 4,
   "id": "ac893f64-2a95-488d-b184-8b8202b00f5d",
   "metadata": {},
   "outputs": [],
   "source": [
    "\"\"\" Hello --- Olleh\"\"\"\n",
    "\n",
    "def reverse_string(text):\n",
    "    s = Stack()\n",
    "\n",
    "    for i in text:\n",
    "        s.push(i)\n",
    "\n",
    "    res = \"\"\n",
    "    while (not s.isempty()):\n",
    "        res = res + s.pop()\n",
    "        \n",
    "    print(res)"
   ]
  },
  {
   "cell_type": "code",
   "execution_count": 5,
   "id": "820c60a1-9b95-4c11-b3ca-cc4a0376dc0e",
   "metadata": {},
   "outputs": [
    {
     "name": "stdout",
     "output_type": "stream",
     "text": [
      "olleH\n"
     ]
    }
   ],
   "source": [
    "reverse_string(\"Hello\")"
   ]
  },
  {
   "cell_type": "code",
   "execution_count": 6,
   "id": "b06593c9-618e-4488-ab15-8185a4c77b60",
   "metadata": {},
   "outputs": [
    {
     "data": {
      "text/plain": [
       "'Hello-->ururu -- (undo, redo)'"
      ]
     },
     "execution_count": 6,
     "metadata": {},
     "output_type": "execute_result"
    }
   ],
   "source": [
    "\"Hello\" \"-->\" \"\"\"ururu -- (undo, redo)\"\"\" # two stacks need to be create"
   ]
  },
  {
   "cell_type": "code",
   "execution_count": 7,
   "id": "1c6483b7-a2b6-426d-a805-76227e8e80ab",
   "metadata": {},
   "outputs": [],
   "source": [
    "def text_editor(text, pattern):\n",
    "    u = Stack()\n",
    "    r = Stack()\n",
    "\n",
    "    for i in text:\n",
    "        u.push(i)\n",
    "\n",
    "    for i in pattern:\n",
    "        if i == 'u':\n",
    "            data = u.pop()\n",
    "            r.push(data)\n",
    "        else:\n",
    "            data = r.pop()\n",
    "            u.push(data)\n",
    "    res = \"\"\n",
    "    while (not u.isempty()):\n",
    "        res = u.pop() + res\n",
    "\n",
    "    print(res)"
   ]
  },
  {
   "cell_type": "code",
   "execution_count": 8,
   "id": "134b73a8-56c6-4f09-81c6-7fac601444c1",
   "metadata": {},
   "outputs": [
    {
     "name": "stdout",
     "output_type": "stream",
     "text": [
      "Kolkat\n"
     ]
    }
   ],
   "source": [
    "text_editor(\"Kolkata\", \"uurruru\")"
   ]
  },
  {
   "cell_type": "code",
   "execution_count": 9,
   "id": "8eafc358-753f-4b79-9058-49b5d9c20bf0",
   "metadata": {},
   "outputs": [
    {
     "data": {
      "text/plain": [
       "'\\nn*n Matrix    A B C D\\n           A [0 0 1 1]\\n           B [0 0 1 1]\\n           C [1 0 0 1]\\n           D [1 0 0 0]\\n3 --> D only one celebrity but no one celebrity\\n'"
      ]
     },
     "execution_count": 9,
     "metadata": {},
     "output_type": "execute_result"
    }
   ],
   "source": [
    "# Celebrity Problem\n",
    "\"\"\"\n",
    "n*n Matrix    A B C D\n",
    "           A [0 0 1 1]\n",
    "           B [0 0 1 1]\n",
    "           C [1 0 0 1]\n",
    "           D [1 0 0 0]\n",
    "3 --> D only one celebrity but no one celebrity\n",
    "\"\"\""
   ]
  },
  {
   "cell_type": "code",
   "execution_count": 10,
   "id": "4ea30c95-e06f-45b6-bccf-3263dff09877",
   "metadata": {},
   "outputs": [],
   "source": [
    "L = [\n",
    "    [0,0,1,0],\n",
    "    [0,0,1,0],\n",
    "    [0,0,0,0],\n",
    "    [0,0,1,0]\n",
    "]\n"
   ]
  },
  {
   "cell_type": "code",
   "execution_count": 11,
   "id": "a9af3314-738b-48cc-a570-abf6873b7b6c",
   "metadata": {},
   "outputs": [],
   "source": [
    "def find_the_celeb(L):\n",
    "    s = Stack()\n",
    "    for i in range(len(L)):\n",
    "        s.push(i)\n",
    "\n",
    "    while s.size() >=2:\n",
    "        i = s.pop()\n",
    "        j = s.pop()\n",
    "\n",
    "        if L[i][j] == 0:\n",
    "            # j is not a celeb\n",
    "            s.push(i)\n",
    "        else:\n",
    "            # i is not a celer\n",
    "            s.push(j)\n",
    "            \n",
    "    celeb = s.pop()\n",
    "\n",
    "    for i in range(len(L)):\n",
    "        if i != celeb:\n",
    "            if L[i][celeb] == 0 or L[celeb][i] == 1:\n",
    "                print(\"No one is celeb\")\n",
    "                return\n",
    "    print(\"The celeber is \", celeb)"
   ]
  },
  {
   "cell_type": "code",
   "execution_count": 12,
   "id": "c3507cdc-463e-4b79-99c2-78e51e310769",
   "metadata": {},
   "outputs": [
    {
     "name": "stdout",
     "output_type": "stream",
     "text": [
      "The celeber is  2\n"
     ]
    }
   ],
   "source": [
    "find_the_celeb(L)"
   ]
  },
  {
   "cell_type": "code",
   "execution_count": 13,
   "id": "772c386c-796b-472f-b179-6a537227ab87",
   "metadata": {},
   "outputs": [],
   "source": [
    "# Balanced Parantheses\n",
    "# [{(a + b) + (c + d)}] True or False"
   ]
  },
  {
   "cell_type": "code",
   "execution_count": 14,
   "id": "d5133141-e891-4e7b-8c63-3dacdd5e7e61",
   "metadata": {},
   "outputs": [],
   "source": [
    "class Stack:\n",
    "\n",
    "    def __init__(self, size):\n",
    "        self.size = size\n",
    "        self.__stack = [None] * self.size  # __stack private\n",
    "        self.top = -1\n",
    "\n",
    "    def push(self, value):\n",
    "        \n",
    "        if self.top == self.size -1:\n",
    "            return \"Overflow\"\n",
    "        else:\n",
    "            self.top += 1\n",
    "            self.__stack[self.top] = value  \n",
    "\n",
    "    def pop(self):\n",
    "\n",
    "        if self.top == -1:\n",
    "            return \"Empty\"\n",
    "        else:\n",
    "            data = self.__stack[self.top]\n",
    "            self.top -=1\n",
    "            print(data)\n",
    "\n",
    "    def traverse(self):\n",
    "\n",
    "        for i in range(self.top + 1):\n",
    "            print(self.__stack[i], end = \" \")"
   ]
  },
  {
   "cell_type": "code",
   "execution_count": 15,
   "id": "b187373b-cb93-4ad8-a4d2-9e403abfbd5b",
   "metadata": {},
   "outputs": [],
   "source": [
    "s = Stack(3)"
   ]
  },
  {
   "cell_type": "code",
   "execution_count": 16,
   "id": "ff94bb8c-61d4-45e5-99c5-da109cb50779",
   "metadata": {},
   "outputs": [],
   "source": [
    "#s.stack"
   ]
  },
  {
   "cell_type": "code",
   "execution_count": 17,
   "id": "4d686271-5a95-4a64-a8ef-3ab23386e91b",
   "metadata": {},
   "outputs": [],
   "source": [
    "s.push(4)"
   ]
  },
  {
   "cell_type": "code",
   "execution_count": 18,
   "id": "90a0fb7f-63ab-4219-bea4-2c071cce7aff",
   "metadata": {},
   "outputs": [
    {
     "name": "stdout",
     "output_type": "stream",
     "text": [
      "4\n"
     ]
    }
   ],
   "source": [
    "s.pop()"
   ]
  },
  {
   "cell_type": "code",
   "execution_count": 19,
   "id": "83aa29ee-14ca-4a39-8900-f49e73abd260",
   "metadata": {},
   "outputs": [],
   "source": [
    "s.traverse()"
   ]
  },
  {
   "cell_type": "code",
   "execution_count": 20,
   "id": "9205bab5-83d6-490a-be4a-334d555675a5",
   "metadata": {},
   "outputs": [
    {
     "data": {
      "text/plain": [
       "'Queue'"
      ]
     },
     "execution_count": 20,
     "metadata": {},
     "output_type": "execute_result"
    }
   ],
   "source": [
    "\"\"\"Queue\"\"\""
   ]
  },
  {
   "cell_type": "code",
   "execution_count": 24,
   "id": "128a57bd-4ab5-4c54-8265-61071c6dc8d3",
   "metadata": {},
   "outputs": [],
   "source": [
    "a = Stack()\n",
    "b = Stack()"
   ]
  },
  {
   "cell_type": "code",
   "execution_count": 25,
   "id": "2b5fd09b-9a02-4fee-bcd0-9d3af761e84c",
   "metadata": {},
   "outputs": [],
   "source": [
    "def enqueue_stack(value):\n",
    "  a.push(value)\n",
    "\n",
    "def dequeue_stack():\n",
    "\n",
    "  if not b.isempty():\n",
    "    b.pop()\n",
    "  else:\n",
    "    if a.isempty():\n",
    "      print(\"Empty queue\")\n",
    "    else:\n",
    "      while(not a.is_empty()):\n",
    "        data = a.pop()\n",
    "        b.push(data)\n",
    "\n",
    "      b.pop()"
   ]
  },
  {
   "cell_type": "code",
   "execution_count": 26,
   "id": "d79309ca-6321-488c-a5f9-8afc676cff70",
   "metadata": {},
   "outputs": [],
   "source": [
    "enqueue_stack(5)"
   ]
  },
  {
   "cell_type": "code",
   "execution_count": 27,
   "id": "3582fd1b-d5b4-4511-a0ac-631ca3cea9df",
   "metadata": {},
   "outputs": [
    {
     "name": "stdout",
     "output_type": "stream",
     "text": [
      "5\n"
     ]
    }
   ],
   "source": [
    "a.traverse()"
   ]
  },
  {
   "cell_type": "code",
   "execution_count": null,
   "id": "39a0a82e-ab5e-4a68-b47a-1bd373f48564",
   "metadata": {},
   "outputs": [],
   "source": []
  },
  {
   "cell_type": "code",
   "execution_count": 28,
   "id": "04a20771-dd64-4de7-a723-e7b88bf04140",
   "metadata": {},
   "outputs": [],
   "source": [
    "###Old###"
   ]
  },
  {
   "cell_type": "code",
   "execution_count": 29,
   "id": "2ef792ab-c195-4c3c-8ae4-b61f5688f79b",
   "metadata": {},
   "outputs": [],
   "source": [
    "s = Stack()"
   ]
  },
  {
   "cell_type": "code",
   "execution_count": 30,
   "id": "4f7def72-68ca-42fa-a9ac-12a5e6be8423",
   "metadata": {},
   "outputs": [
    {
     "data": {
      "text/plain": [
       "True"
      ]
     },
     "execution_count": 30,
     "metadata": {},
     "output_type": "execute_result"
    }
   ],
   "source": [
    "s.isempty()"
   ]
  },
  {
   "cell_type": "code",
   "execution_count": 31,
   "id": "5c18761e-3984-4cf1-8c83-fa8bd7064133",
   "metadata": {},
   "outputs": [],
   "source": [
    "s.push(2)"
   ]
  },
  {
   "cell_type": "code",
   "execution_count": 32,
   "id": "1b7e3d1e-a794-4184-a1b0-b4bc45a0c750",
   "metadata": {},
   "outputs": [
    {
     "name": "stdout",
     "output_type": "stream",
     "text": [
      "2\n"
     ]
    }
   ],
   "source": [
    "s.traverse()"
   ]
  },
  {
   "cell_type": "code",
   "execution_count": 33,
   "id": "213e0008-9e67-4650-a830-7370668a36dc",
   "metadata": {},
   "outputs": [],
   "source": [
    "s.push(2)\n",
    "s.push(3)"
   ]
  },
  {
   "cell_type": "code",
   "execution_count": 34,
   "id": "e061c497-a408-445f-b2e8-ba386681f7ca",
   "metadata": {},
   "outputs": [
    {
     "name": "stdout",
     "output_type": "stream",
     "text": [
      "3\n",
      "2\n",
      "2\n"
     ]
    }
   ],
   "source": [
    "s.traverse()"
   ]
  },
  {
   "cell_type": "code",
   "execution_count": 35,
   "id": "3f2d39c7-d954-4f24-a299-5437246ea6b6",
   "metadata": {},
   "outputs": [
    {
     "data": {
      "text/plain": [
       "3"
      ]
     },
     "execution_count": 35,
     "metadata": {},
     "output_type": "execute_result"
    }
   ],
   "source": [
    "s.peek()"
   ]
  },
  {
   "cell_type": "code",
   "execution_count": 36,
   "id": "f5c3990b-f9cf-4eb1-a093-eb08bb1033c8",
   "metadata": {},
   "outputs": [
    {
     "data": {
      "text/plain": [
       "3"
      ]
     },
     "execution_count": 36,
     "metadata": {},
     "output_type": "execute_result"
    }
   ],
   "source": [
    "s.pop()"
   ]
  },
  {
   "cell_type": "code",
   "execution_count": null,
   "id": "c811e149-8b0e-45f1-a737-66d30933b570",
   "metadata": {},
   "outputs": [],
   "source": []
  },
  {
   "cell_type": "code",
   "execution_count": 37,
   "id": "e43839da-58d6-4b4f-bd01-4168e4be5af2",
   "metadata": {},
   "outputs": [],
   "source": [
    "#Queue using Node"
   ]
  },
  {
   "cell_type": "code",
   "execution_count": 38,
   "id": "8987eb3b-030d-4cb1-93a7-f15fe4727fdd",
   "metadata": {},
   "outputs": [],
   "source": [
    "class Node:\n",
    "\n",
    "    def __init__(self, value):\n",
    "        self.data = value\n",
    "        self.next = None"
   ]
  },
  {
   "cell_type": "code",
   "execution_count": 39,
   "id": "8357b280-e143-4608-b514-138fdb0665a5",
   "metadata": {},
   "outputs": [],
   "source": [
    "class Queue:\n",
    "\n",
    "    def __init__(self):\n",
    "        self.front = None\n",
    "        self.rear = None\n",
    "\n",
    "    def enqueue(self,value):\n",
    "        \n",
    "        new_node = Node(value)\n",
    "\n",
    "        if self.rear == None:\n",
    "            self.front = new_node\n",
    "            self.rear = self.front\n",
    "        else:\n",
    "            self.rear.next = new_node\n",
    "            self.rear = new_node\n",
    "\n",
    "    def dequeue(self):\n",
    "\n",
    "        if self.front == None:\n",
    "            return \"Empty\"\n",
    "        else:\n",
    "            self.front = self.front.next\n",
    "\n",
    "    def is_empty(self):\n",
    "        return self.front == None\n",
    "\n",
    "    def size(self):\n",
    "        temp = self.front\n",
    "        counter = 0\n",
    "        while temp != None:\n",
    "            counter +=1\n",
    "            temp = temp.next\n",
    "        return counter\n",
    "\n",
    "    def front_item(self):\n",
    "        if self.front == None:\n",
    "            return \"Empty\"\n",
    "        else:\n",
    "            return self.front.data\n",
    "\n",
    "    def rear_item(self):\n",
    "        if self.front == None:\n",
    "            return \"Empty\"\n",
    "        else:\n",
    "            return self.rear.data\n",
    "    \n",
    "    def traverse(self):\n",
    "        temp = self.front\n",
    "\n",
    "        while temp != None:\n",
    "            print(temp.data, end = \" \")\n",
    "            temp = temp.next\n",
    "    "
   ]
  },
  {
   "cell_type": "code",
   "execution_count": 40,
   "id": "ce211ffb-c03c-4f0f-b3cd-0a31bd27bc20",
   "metadata": {},
   "outputs": [],
   "source": [
    "q = Queue()"
   ]
  },
  {
   "cell_type": "code",
   "execution_count": 41,
   "id": "de1dbc88-c509-420b-87cf-c3716c98d2a0",
   "metadata": {},
   "outputs": [
    {
     "data": {
      "text/plain": [
       "True"
      ]
     },
     "execution_count": 41,
     "metadata": {},
     "output_type": "execute_result"
    }
   ],
   "source": [
    "q.is_empty()"
   ]
  },
  {
   "cell_type": "code",
   "execution_count": 42,
   "id": "9a2a0f8e-3f54-424d-a155-384468b81e7e",
   "metadata": {},
   "outputs": [],
   "source": [
    "q.enqueue(4)\n",
    "q.enqueue(5)\n",
    "q.enqueue(7)"
   ]
  },
  {
   "cell_type": "code",
   "execution_count": 43,
   "id": "b1879e75-141f-44c0-9c74-64165b0b617c",
   "metadata": {},
   "outputs": [
    {
     "name": "stdout",
     "output_type": "stream",
     "text": [
      "4 5 7 "
     ]
    }
   ],
   "source": [
    "q.traverse()"
   ]
  },
  {
   "cell_type": "code",
   "execution_count": 44,
   "id": "eaf6b56d-1068-4799-be85-4c396d9f61e0",
   "metadata": {},
   "outputs": [],
   "source": [
    "q.dequeue()"
   ]
  },
  {
   "cell_type": "code",
   "execution_count": 45,
   "id": "0d0662b1-f7cf-4764-b7d0-09930fc55b47",
   "metadata": {},
   "outputs": [
    {
     "data": {
      "text/plain": [
       "7"
      ]
     },
     "execution_count": 45,
     "metadata": {},
     "output_type": "execute_result"
    }
   ],
   "source": [
    "q.rear_item()"
   ]
  },
  {
   "cell_type": "code",
   "execution_count": 46,
   "id": "9af9b346-0120-42cf-a07e-91f9129fb6d2",
   "metadata": {},
   "outputs": [
    {
     "data": {
      "text/plain": [
       "5"
      ]
     },
     "execution_count": 46,
     "metadata": {},
     "output_type": "execute_result"
    }
   ],
   "source": [
    "q.front_item()"
   ]
  },
  {
   "cell_type": "code",
   "execution_count": 47,
   "id": "a0b97233-ea9f-4d6f-b2a4-d09092a78420",
   "metadata": {},
   "outputs": [],
   "source": [
    "### Question"
   ]
  },
  {
   "cell_type": "code",
   "execution_count": 51,
   "id": "a3db39e5-08f5-47a3-aa30-b1eb176c6d60",
   "metadata": {},
   "outputs": [],
   "source": [
    "# def fun(num):\n",
    "#     if (num == 0):\n",
    "#         return 0\n",
    "#     else:\n",
    "#         queue.enqueue(num%10)  #3, 2, 1\n",
    "#         res = fun(num//10) # 12,1, 0\n",
    "#         res = res*10 + queue.dequeue() # 3 ->3*10+2-> 32*10+1\n",
    "#         return res\n",
    "# queue = Queue(100)\n",
    "# print(fun(123))\n",
    "# #321"
   ]
  },
  {
   "cell_type": "code",
   "execution_count": 49,
   "id": "5b02c492-0cd5-4b3f-998c-d20e9cd713c2",
   "metadata": {},
   "outputs": [],
   "source": [
    "obj = object()"
   ]
  },
  {
   "cell_type": "code",
   "execution_count": 50,
   "id": "8bf6c34e-c0f6-4576-ab5c-0c4124d09e89",
   "metadata": {},
   "outputs": [
    {
     "name": "stdout",
     "output_type": "stream",
     "text": [
      "['__class__', '__delattr__', '__dir__', '__doc__', '__eq__', '__format__', '__ge__', '__getattribute__', '__gt__', '__hash__', '__init__', '__init_subclass__', '__le__', '__lt__', '__ne__', '__new__', '__reduce__', '__reduce_ex__', '__repr__', '__setattr__', '__sizeof__', '__str__', '__subclasshook__']\n"
     ]
    }
   ],
   "source": [
    "print(dir(obj))"
   ]
  },
  {
   "cell_type": "code",
   "execution_count": null,
   "id": "93096d3c-a7ad-4aa9-a783-083738003f58",
   "metadata": {},
   "outputs": [],
   "source": []
  }
 ],
 "metadata": {
  "kernelspec": {
   "display_name": "Python 3 (ipykernel)",
   "language": "python",
   "name": "python3"
  },
  "language_info": {
   "codemirror_mode": {
    "name": "ipython",
    "version": 3
   },
   "file_extension": ".py",
   "mimetype": "text/x-python",
   "name": "python",
   "nbconvert_exporter": "python",
   "pygments_lexer": "ipython3",
   "version": "3.8.10"
  }
 },
 "nbformat": 4,
 "nbformat_minor": 5
}
