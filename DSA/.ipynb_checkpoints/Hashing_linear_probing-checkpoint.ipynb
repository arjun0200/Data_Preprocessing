{
 "cells": [
  {
   "cell_type": "code",
   "execution_count": 1,
   "id": "95c3d5d6-f359-4cd2-9f52-0b17c990355f",
   "metadata": {},
   "outputs": [],
   "source": [
    "class Dictionary:\n",
    "\n",
    "    def __init__(self, size):\n",
    "        self.size = size\n",
    "        self.slots = [None] * self.size  # keys\n",
    "        self.data = [None] * self.size   # values\n",
    "\n",
    "    def put(self, key, value):\n",
    "        hash_value = self.hash_function(key)\n",
    "\n",
    "        if self.slots[hash_value] == None:\n",
    "            self.slots[hash_value] = key\n",
    "            self.data[hash_value] = value\n",
    "\n",
    "        else:\n",
    "\n",
    "            if self.slots[hash_value] == key:\n",
    "                self.data[hash_value] = value\n",
    "\n",
    "            else:\n",
    "                new_hash_value = self.rehash(hash_value)\n",
    "\n",
    "                while self.slots[new_hash_value] != None and self.slots[new_hash_value] != key:\n",
    "                    new_hash_value = self.rehash(new_hash_value)\n",
    "\n",
    "                if self.slots[new_hash_value] == None:\n",
    "                    self.slots[new_hash_value] = key\n",
    "                    self.data[new_hash_value] = value\n",
    "\n",
    "                else:\n",
    "                    self.data[new_hash_value] = value\n",
    "\n",
    "    def get(self, key):   \n",
    "        start_position = self.hash_function(key)\n",
    "        current_position = start_position\n",
    "\n",
    "        while self.slots[current_position] != None:\n",
    "\n",
    "            if self.slots[current_position] == key:\n",
    "                return self.data[current_position]\n",
    "\n",
    "            current_position = self.rehash(current_position)\n",
    "\n",
    "            if current_position == start_position:\n",
    "                return \"Key Not Found\"\n",
    "\n",
    "        return \"Key Not None Found\"\n",
    "\n",
    "    def __str__(self):\n",
    "\n",
    "        for i in range(len(self.slots)):\n",
    "            if self.slots[i] != None:\n",
    "                print(self.slots[i], \":\", self.data[i], end = \" \")\n",
    "\n",
    "        return \" \"\n",
    "\n",
    "    def __getitem__(self, key):  ## magic methods  get\n",
    "        return self.get(key)\n",
    "        \n",
    "    def __setitem__(self, key, value):   ## magic methods set\n",
    "        self.put(key, value)\n",
    "        \n",
    "    def hash_function(self, key):\n",
    "        \n",
    "        return abs(hash(key)) % self.size\n",
    "\n",
    "    def rehash(self, old_hash):\n",
    "        return (old_hash + 1) % self.size  #quardratic (i +1)**2"
   ]
  },
  {
   "cell_type": "code",
   "execution_count": 2,
   "id": "74b92140-bb10-4537-b628-aaa5105166d4",
   "metadata": {},
   "outputs": [
    {
     "data": {
      "text/plain": [
       "(-1506270349622755715, 529344067295497451)"
      ]
     },
     "execution_count": 2,
     "metadata": {},
     "output_type": "execute_result"
    }
   ],
   "source": [
    "hash(\"Python\"), hash((1,2,3))"
   ]
  },
  {
   "cell_type": "code",
   "execution_count": 3,
   "id": "ebab3cca-ba1c-4370-b507-ebbb027a45e6",
   "metadata": {},
   "outputs": [],
   "source": [
    "D1 = Dictionary(3)"
   ]
  },
  {
   "cell_type": "code",
   "execution_count": 8,
   "id": "dc035711-5ee4-4af6-89aa-71aba518799b",
   "metadata": {},
   "outputs": [
    {
     "name": "stdout",
     "output_type": "stream",
     "text": [
      "['PHP', 'Java', 'Python']\n",
      "[1000, 34, 3]\n"
     ]
    }
   ],
   "source": [
    "print(D1.slots)\n",
    "print(D1.data)"
   ]
  },
  {
   "cell_type": "code",
   "execution_count": 5,
   "id": "9d314a3f-ab8b-49fb-a966-c3eb6a8a965a",
   "metadata": {},
   "outputs": [],
   "source": [
    "D1.put(\"Python\", 3)"
   ]
  },
  {
   "cell_type": "code",
   "execution_count": 6,
   "id": "8b24a1e2-78ee-4e05-9c5a-cfcd71c181d7",
   "metadata": {},
   "outputs": [],
   "source": [
    "D1.put(\"Java\", 34)"
   ]
  },
  {
   "cell_type": "code",
   "execution_count": 7,
   "id": "1bd13fbb-30eb-4aab-b4d1-e765bb7d6d82",
   "metadata": {},
   "outputs": [],
   "source": [
    "D1.put(\"PHP\", 1000)"
   ]
  },
  {
   "cell_type": "code",
   "execution_count": 9,
   "id": "f513bb11-48db-4df3-9440-fe6d3f654c49",
   "metadata": {},
   "outputs": [
    {
     "data": {
      "text/plain": [
       "34"
      ]
     },
     "execution_count": 9,
     "metadata": {},
     "output_type": "execute_result"
    }
   ],
   "source": [
    "D1[\"Java\"]"
   ]
  },
  {
   "cell_type": "code",
   "execution_count": 10,
   "id": "6c60f5d2-e0ea-455c-b1a4-349499ec95cf",
   "metadata": {},
   "outputs": [
    {
     "data": {
      "text/plain": [
       "'Key Not Found'"
      ]
     },
     "execution_count": 10,
     "metadata": {},
     "output_type": "execute_result"
    }
   ],
   "source": [
    "D1[\"c\"]"
   ]
  },
  {
   "cell_type": "code",
   "execution_count": 13,
   "id": "9651c4e1-23d5-4d25-b69a-5e48bb0393b0",
   "metadata": {},
   "outputs": [],
   "source": [
    "D1[\"PHP\"] =  10"
   ]
  },
  {
   "cell_type": "code",
   "execution_count": 14,
   "id": "96d70d2b-c7bc-4a09-b27f-f0ed4e05aa06",
   "metadata": {},
   "outputs": [
    {
     "name": "stdout",
     "output_type": "stream",
     "text": [
      "PHP : 10 Java : 34 Python : 3  \n"
     ]
    }
   ],
   "source": [
    "print(D1)"
   ]
  },
  {
   "cell_type": "code",
   "execution_count": null,
   "id": "1a313289-af99-4a44-80b1-f88a9f0298df",
   "metadata": {},
   "outputs": [],
   "source": []
  }
 ],
 "metadata": {
  "kernelspec": {
   "display_name": "Python 3 (ipykernel)",
   "language": "python",
   "name": "python3"
  },
  "language_info": {
   "codemirror_mode": {
    "name": "ipython",
    "version": 3
   },
   "file_extension": ".py",
   "mimetype": "text/x-python",
   "name": "python",
   "nbconvert_exporter": "python",
   "pygments_lexer": "ipython3",
   "version": "3.8.10"
  }
 },
 "nbformat": 4,
 "nbformat_minor": 5
}
