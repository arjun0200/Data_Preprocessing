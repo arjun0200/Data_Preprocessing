{
 "cells": [
  {
   "cell_type": "code",
   "execution_count": 1,
   "id": "301cccbc-c4c0-4802-a994-b6f749cb25d4",
   "metadata": {},
   "outputs": [],
   "source": [
    "# Linear Searching\n",
    "# Binary\n",
    "\n",
    "# Sleep Sort\n",
    "# Monkey Sort\n",
    "# Bubble Sort\n",
    "# Selection\n",
    "# Merge Sort\n",
    "# Quick Sort"
   ]
  },
  {
   "cell_type": "code",
   "execution_count": 2,
   "id": "0a40fee9-448b-400b-873a-e6817c666ca1",
   "metadata": {},
   "outputs": [],
   "source": [
    "# Linear Search\n",
    "\n",
    "# Brute force\n",
    "\n",
    "def linear_search(arr, item):\n",
    "    for i in range(len(arr)):\n",
    "\n",
    "        if arr[i] == item:\n",
    "            return i\n",
    "\n",
    "    return -1"
   ]
  },
  {
   "cell_type": "code",
   "execution_count": 3,
   "id": "929dbe39-dcd4-408a-80d5-ab60b05571ad",
   "metadata": {},
   "outputs": [
    {
     "data": {
      "text/plain": [
       "2"
      ]
     },
     "execution_count": 3,
     "metadata": {},
     "output_type": "execute_result"
    }
   ],
   "source": [
    "arr = [1,2,3,46]\n",
    "linear_search(arr, 3)\n",
    "# Time Complexity is O(N)\n",
    "# No sorting required"
   ]
  },
  {
   "cell_type": "code",
   "execution_count": 4,
   "id": "9d699cdc-132f-45d5-b3f0-f3730229b76b",
   "metadata": {},
   "outputs": [],
   "source": [
    "# Binary Search\n",
    "\n",
    "# Sorted array only\n",
    "\n",
    "def binary_search(arr, low, high, item):\n",
    "    print(\"low =\", low, \"high =\", high, end = \" \" )\n",
    "    \n",
    "    if low<=high:\n",
    "        #search\n",
    "        mid = (low + high)//2\n",
    "        print(\"mid value\", arr[mid])\n",
    "\n",
    "        if arr[mid] == item:\n",
    "            return mid\n",
    "        elif arr[mid] > item:\n",
    "            return binary_search(arr, low, mid-1, item)\n",
    "        else:\n",
    "            return binary_search(arr, mid+1, high, item)\n",
    "        \n",
    "    else:\n",
    "        return -1"
   ]
  },
  {
   "cell_type": "code",
   "execution_count": 5,
   "id": "8be652e8-4eec-430a-8da0-89da311767aa",
   "metadata": {},
   "outputs": [
    {
     "name": "stdout",
     "output_type": "stream",
     "text": [
      "low = 0 high = 5 mid value 36\n",
      "low = 3 high = 5 mid value 88\n",
      "low = 5 high = 5 mid value 90\n"
     ]
    },
    {
     "data": {
      "text/plain": [
       "5"
      ]
     },
     "execution_count": 5,
     "metadata": {},
     "output_type": "execute_result"
    }
   ],
   "source": [
    "arr = [12,24,36,46,88,90]\n",
    "binary_search(arr, 0, len(arr)-1, 90)"
   ]
  },
  {
   "cell_type": "code",
   "execution_count": 6,
   "id": "fa032af0-68dd-4bba-9349-0803561abba1",
   "metadata": {},
   "outputs": [],
   "source": [
    "# Sorting \n",
    "def is_sorted(arr):\n",
    "\n",
    "    sorted = True\n",
    "\n",
    "    for i in range(len(arr)-1):\n",
    "        if arr[i]>arr[i+1]:\n",
    "            sorted = False\n",
    "\n",
    "    return sorted"
   ]
  },
  {
   "cell_type": "code",
   "execution_count": 7,
   "id": "62e0634f-0b81-42de-b3e5-b96c7eca4bc7",
   "metadata": {},
   "outputs": [
    {
     "data": {
      "text/plain": [
       "False"
      ]
     },
     "execution_count": 7,
     "metadata": {},
     "output_type": "execute_result"
    }
   ],
   "source": [
    "#arr = [1,2,3,4,5]\n",
    "arr = [1,2,3,6,5]\n",
    "is_sorted(arr)"
   ]
  },
  {
   "cell_type": "code",
   "execution_count": 8,
   "id": "cd4680bc-6359-444c-b6a3-713007ef5f5f",
   "metadata": {},
   "outputs": [
    {
     "data": {
      "text/plain": [
       "[2, 1, 4, 5, 3]"
      ]
     },
     "execution_count": 8,
     "metadata": {},
     "output_type": "execute_result"
    }
   ],
   "source": [
    "# Monkey sort\n",
    "import random\n",
    "a =[1,2,3,4,5]\n",
    "\n",
    "random.shuffle(a)\n",
    "a"
   ]
  },
  {
   "cell_type": "code",
   "execution_count": 9,
   "id": "82dd63ce-94e8-48ab-ad0d-97045e663b1e",
   "metadata": {},
   "outputs": [],
   "source": [
    "def monkey_sort(arr):\n",
    "\n",
    "    while not is_sorted(arr):\n",
    "        random.shuffle(arr)\n",
    "        print(arr)\n",
    "    print(arr)"
   ]
  },
  {
   "cell_type": "code",
   "execution_count": 10,
   "id": "3a53b61b-b8ff-433b-9818-03dd1bd1542e",
   "metadata": {},
   "outputs": [
    {
     "name": "stdout",
     "output_type": "stream",
     "text": [
      "[1, 3, 2, 6, 5]\n",
      "[2, 5, 3, 1, 6]\n",
      "[2, 5, 6, 3, 1]\n",
      "[5, 3, 2, 6, 1]\n",
      "[1, 6, 3, 2, 5]\n",
      "[2, 1, 5, 3, 6]\n",
      "[6, 1, 3, 5, 2]\n",
      "[3, 5, 1, 6, 2]\n",
      "[3, 5, 2, 1, 6]\n",
      "[6, 5, 2, 3, 1]\n",
      "[5, 2, 6, 3, 1]\n",
      "[6, 5, 1, 2, 3]\n",
      "[5, 2, 6, 3, 1]\n",
      "[5, 2, 1, 3, 6]\n",
      "[5, 3, 2, 1, 6]\n",
      "[5, 2, 3, 1, 6]\n",
      "[2, 6, 3, 1, 5]\n",
      "[2, 5, 1, 6, 3]\n",
      "[6, 5, 2, 1, 3]\n",
      "[1, 3, 6, 5, 2]\n",
      "[1, 5, 3, 6, 2]\n",
      "[3, 2, 6, 1, 5]\n",
      "[5, 3, 1, 6, 2]\n",
      "[2, 3, 5, 6, 1]\n",
      "[3, 6, 2, 5, 1]\n",
      "[3, 6, 5, 2, 1]\n",
      "[3, 2, 5, 6, 1]\n",
      "[5, 3, 2, 6, 1]\n",
      "[5, 6, 1, 2, 3]\n",
      "[3, 5, 6, 2, 1]\n",
      "[2, 6, 1, 5, 3]\n",
      "[6, 5, 2, 1, 3]\n",
      "[5, 2, 6, 3, 1]\n",
      "[6, 1, 3, 2, 5]\n",
      "[1, 2, 6, 5, 3]\n",
      "[5, 1, 3, 2, 6]\n",
      "[1, 6, 5, 2, 3]\n",
      "[3, 6, 5, 2, 1]\n",
      "[5, 6, 1, 2, 3]\n",
      "[2, 1, 5, 3, 6]\n",
      "[6, 1, 2, 5, 3]\n",
      "[1, 6, 3, 2, 5]\n",
      "[2, 3, 6, 1, 5]\n",
      "[2, 1, 3, 6, 5]\n",
      "[1, 2, 3, 5, 6]\n",
      "[1, 2, 3, 5, 6]\n"
     ]
    }
   ],
   "source": [
    "monkey_sort(arr) #infinite time complexity"
   ]
  },
  {
   "cell_type": "code",
   "execution_count": 11,
   "id": "2aebc870-a7fe-4c7c-9e93-6df00f04d23f",
   "metadata": {},
   "outputs": [],
   "source": [
    "# Bubble Sort time complexity O(n**2)\n",
    "# Adaptive search with flag O(n)\n",
    "def bubble_sort(arr):\n",
    "\n",
    "    for i in range(len(arr) - 1):\n",
    "        flag = 0\n",
    "        for j in range(len(arr) -1 - i):\n",
    "            if arr[j] > arr[j+1]:\n",
    "                arr[j],arr[j+1] = arr[j+1], arr[j]\n",
    "                flag = 1\n",
    "\n",
    "        if flag == 0:\n",
    "            break\n",
    "    return arr\n",
    "\n"
   ]
  },
  {
   "cell_type": "code",
   "execution_count": 12,
   "id": "bbfbb6d3-6f22-45fa-8fa0-466f29a3d494",
   "metadata": {},
   "outputs": [
    {
     "data": {
      "text/plain": [
       "[11, 23, 23, 34, 56, 78, 100]"
      ]
     },
     "execution_count": 12,
     "metadata": {},
     "output_type": "execute_result"
    }
   ],
   "source": [
    "arr = [23,23,34,11,100,56,78]\n",
    "bubble_sort(arr)"
   ]
  },
  {
   "cell_type": "code",
   "execution_count": 13,
   "id": "7f46aeb7-ada9-4510-9543-d52d4e912b7d",
   "metadata": {},
   "outputs": [],
   "source": [
    "# Selection Sort time complexity O(n**2)\n",
    "def selection_sort(arr):\n",
    "\n",
    "  for i in range(len(arr) - 1):\n",
    "\n",
    "    min = i\n",
    "\n",
    "    for j in range(i+1,len(arr)):\n",
    "      if arr[j] < arr[min]:\n",
    "        min = j\n",
    "    \n",
    "    arr[i],arr[min] = arr[min],arr[i]\n",
    "\n",
    "  return arr"
   ]
  },
  {
   "cell_type": "code",
   "execution_count": 14,
   "id": "5b99ee1c-f303-400f-9e09-bf7ab8208b66",
   "metadata": {},
   "outputs": [
    {
     "data": {
      "text/plain": [
       "[11, 12, 23, 34, 56, 78, 100]"
      ]
     },
     "execution_count": 14,
     "metadata": {},
     "output_type": "execute_result"
    }
   ],
   "source": [
    "arr = [23,12,34,11,100,56,78]\n",
    "selection_sort(arr)\n",
    "     "
   ]
  },
  {
   "cell_type": "code",
   "execution_count": 15,
   "id": "a4f17c37-e35a-48c0-9ad4-02d5272c6e92",
   "metadata": {},
   "outputs": [],
   "source": [
    "L = []\n",
    "\n",
    "import random\n",
    "\n",
    "for i in range(10000):\n",
    "  L.append(random.randint(1,10000))"
   ]
  },
  {
   "cell_type": "code",
   "execution_count": 16,
   "id": "653ee839-27b0-433d-a5b0-d2417ff1904e",
   "metadata": {},
   "outputs": [
    {
     "data": {
      "text/plain": [
       "10000"
      ]
     },
     "execution_count": 16,
     "metadata": {},
     "output_type": "execute_result"
    }
   ],
   "source": [
    "len(L)"
   ]
  },
  {
   "cell_type": "code",
   "execution_count": 17,
   "id": "b473679e-c9ea-426a-b977-ca7e94ab90bb",
   "metadata": {},
   "outputs": [],
   "source": [
    "L1 = L[:]\n",
    "# cloning"
   ]
  },
  {
   "cell_type": "code",
   "execution_count": 18,
   "id": "7321133a-b1bd-422c-9be7-76f789885095",
   "metadata": {},
   "outputs": [
    {
     "name": "stdout",
     "output_type": "stream",
     "text": [
      "Time taken 4.55034875869751 secs\n"
     ]
    }
   ],
   "source": [
    "import time\n",
    "\n",
    "start = time.time()\n",
    "bubble_sort(L)\n",
    "print(\"Time taken\",time.time() - start,\"secs\")"
   ]
  },
  {
   "cell_type": "code",
   "execution_count": 19,
   "id": "8a08be4e-f1a0-44d4-b5f9-afcc0c960d72",
   "metadata": {},
   "outputs": [
    {
     "name": "stdout",
     "output_type": "stream",
     "text": [
      "Time taken 1.7595674991607666 secs\n"
     ]
    }
   ],
   "source": [
    "start = time.time()\n",
    "selection_sort(L1)\n",
    "print(\"Time taken\",time.time() - start,\"secs\")\n",
    "\n",
    "# Not Adaptive"
   ]
  },
  {
   "cell_type": "code",
   "execution_count": 20,
   "id": "df281d09-2dc8-4bc4-b03a-58b0b01b0a7a",
   "metadata": {},
   "outputs": [],
   "source": [
    "# Merge Sort"
   ]
  },
  {
   "cell_type": "code",
   "execution_count": 21,
   "id": "1f224db6-d466-4927-a318-9cdcd87103ab",
   "metadata": {},
   "outputs": [],
   "source": [
    "def merge_arrays(arr1,arr2, arr):\n",
    "    i = j = k = 0\n",
    "\n",
    "\n",
    "    while i < len(arr1) and j < len(arr2):\n",
    "        if arr1[i] < arr2[j]:\n",
    "            arr[k] = arr1[i]\n",
    "            i +=1\n",
    "        else:\n",
    "            arr[k] = arr2[j]\n",
    "            j +=1\n",
    "        k +=1\n",
    "    while i <len(arr1):\n",
    "        arr[k] = arr1[i]\n",
    "        i +=1\n",
    "        k +=1\n",
    "\n",
    "    while j <len(arr2):\n",
    "        arr[k] = arr2[j]\n",
    "        j +=1\n",
    "        k +=1\n",
    "\n",
    "    return"
   ]
  },
  {
   "cell_type": "code",
   "execution_count": 22,
   "id": "071752eb-08ee-4b5a-9a1d-18e5cd67347d",
   "metadata": {},
   "outputs": [],
   "source": [
    "def merge_sort(arr): #nlogn  #space complexity n # not adaptive #stable ok\n",
    "\n",
    "    if len(arr) == 1:\n",
    "        return arr\n",
    "\n",
    "    mid = len(arr)//2\n",
    "\n",
    "    left = arr[:mid]\n",
    "    right = arr[mid:]\n",
    "\n",
    "    merge_sort(left)\n",
    "    merge_sort(right)\n",
    "\n",
    "    merge_arrays(left, right, arr)"
   ]
  },
  {
   "cell_type": "code",
   "execution_count": 23,
   "id": "b47a3896-e60e-4742-bf73-54ef1f105a02",
   "metadata": {},
   "outputs": [
    {
     "name": "stdout",
     "output_type": "stream",
     "text": [
      "[1, 2, 4, 5, 6, 7, 8, 9]\n"
     ]
    }
   ],
   "source": [
    "arr = [2,1,5,8,9,6,7,4]\n",
    "merge_sort(arr)\n",
    "print(arr)"
   ]
  },
  {
   "cell_type": "code",
   "execution_count": 24,
   "id": "31ee1680-aa25-4cb4-89f1-afe6ded00ad0",
   "metadata": {},
   "outputs": [],
   "source": [
    "def quick_sort(arr):\n",
    "\n",
    "  if len(arr) <= 1:\n",
    "    return arr\n",
    "\n",
    "  pivot = arr.pop()\n",
    "\n",
    "  items_left = []\n",
    "  items_right = []\n",
    "\n",
    "  for item in arr:\n",
    "    if item < pivot:\n",
    "      items_left.append(item)\n",
    "    else:\n",
    "      items_right.append(item)\n",
    "\n",
    "  return quick_sort(items_left) + [pivot] + quick_sort(items_right)\n"
   ]
  },
  {
   "cell_type": "code",
   "execution_count": 25,
   "id": "cc5f4820-8953-422a-8825-8fdc7f4b6291",
   "metadata": {},
   "outputs": [
    {
     "data": {
      "text/plain": [
       "[1, 2, 3, 4, 5, 6, 7]"
      ]
     },
     "execution_count": 25,
     "metadata": {},
     "output_type": "execute_result"
    }
   ],
   "source": [
    "arr = [2,1,4,6,3,7,5]\n",
    "quick_sort(arr)"
   ]
  },
  {
   "cell_type": "code",
   "execution_count": 26,
   "id": "c0c133c8-745b-4184-92bb-5aaef6f34690",
   "metadata": {},
   "outputs": [],
   "source": [
    "def quick_sort(arr,low,high):\n",
    "\n",
    "  if len(arr) == 1:\n",
    "    return arr\n",
    "\n",
    "  if low < high:\n",
    "\n",
    "    pi = partition(arr,low,high)\n",
    "\n",
    "    quick_sort(arr,low,pi-1)\n",
    "    quick_sort(arr,pi+1,high)"
   ]
  },
  {
   "cell_type": "code",
   "execution_count": 27,
   "id": "5087542a-6f39-4750-afc3-74f60195790b",
   "metadata": {},
   "outputs": [],
   "source": [
    "def partition(arr,low,high):\n",
    "\n",
    "  i = low - 1\n",
    "  pivot = arr[high]\n",
    "\n",
    "  for j in range(low,high):\n",
    "\n",
    "    if arr[j] <= pivot:\n",
    "      i+=1\n",
    "      arr[i],arr[j] = arr[j],arr[i]\n",
    "  arr[i+1],arr[high] = arr[high],arr[i+1]\n",
    "\n",
    "  return i+1"
   ]
  },
  {
   "cell_type": "code",
   "execution_count": 28,
   "id": "8e45e1e5-912b-41a1-8ebe-79f9ac454250",
   "metadata": {},
   "outputs": [
    {
     "name": "stdout",
     "output_type": "stream",
     "text": [
      "[1, 5, 7, 8, 9, 10]\n"
     ]
    }
   ],
   "source": [
    "arr = [10, 7, 8, 9, 1, 5] \n",
    "n = len(arr) \n",
    "quick_sort(arr, 0, n-1)\n",
    "print(arr)\n"
   ]
  },
  {
   "cell_type": "code",
   "execution_count": null,
   "id": "fe299b2f-4675-4623-90bf-61c9d449866c",
   "metadata": {},
   "outputs": [],
   "source": []
  }
 ],
 "metadata": {
  "kernelspec": {
   "display_name": "Python 3 (ipykernel)",
   "language": "python",
   "name": "python3"
  },
  "language_info": {
   "codemirror_mode": {
    "name": "ipython",
    "version": 3
   },
   "file_extension": ".py",
   "mimetype": "text/x-python",
   "name": "python",
   "nbconvert_exporter": "python",
   "pygments_lexer": "ipython3",
   "version": "3.8.10"
  }
 },
 "nbformat": 4,
 "nbformat_minor": 5
}
