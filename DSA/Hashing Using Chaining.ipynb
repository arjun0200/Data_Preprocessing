{
 "cells": [
  {
   "cell_type": "code",
   "execution_count": 1,
   "id": "ca3343f4-ffdd-4844-97ab-b3e3b4fda718",
   "metadata": {},
   "outputs": [],
   "source": [
    "class Node:\n",
    "    def __init__(self, key, value):\n",
    "        self.key = key\n",
    "        self.value = value\n",
    "        self.next = None"
   ]
  },
  {
   "cell_type": "code",
   "execution_count": 2,
   "id": "18f73515-971f-45a6-9810-cdcbe3887221",
   "metadata": {},
   "outputs": [],
   "source": [
    "class LL:\n",
    "\n",
    "    def __init__(self):\n",
    "        self.head = None\n",
    "\n",
    "    def add(self, key, value):\n",
    "\n",
    "        new_node = Node(key, value)\n",
    "\n",
    "        if self.head == None:\n",
    "            self.head = new_node\n",
    "        else:\n",
    "\n",
    "            temp = self.head\n",
    "\n",
    "            while temp.next != None:\n",
    "                temp = temp.next\n",
    "\n",
    "            temp.next = new_node\n",
    "\n",
    "    def delete_head(self):\n",
    "        if self.head == None:\n",
    "            return 'Empty'\n",
    "        else:\n",
    "            self.head = self.head.next\n",
    "\n",
    "\n",
    "    def remove(self, key):\n",
    "        if self.head.key == key:\n",
    "            self.delete_head()\n",
    "            return\n",
    "\n",
    "        if self.head == None:\n",
    "            return \"Empty\"\n",
    "\n",
    "        else:\n",
    "\n",
    "            temp = self.head\n",
    "\n",
    "            while temp.next  != None:\n",
    "                if temp.next.key == key:\n",
    "                    break\n",
    "                temp = temp.next\n",
    "\n",
    "            if temp.next == None:\n",
    "                return \"Not Found\"\n",
    "            else:\n",
    "                temp.next = temp.next.next\n",
    "\n",
    "    def traverse(self):\n",
    "\n",
    "        temp = self.head\n",
    "\n",
    "        while temp != None:\n",
    "\n",
    "            print(temp.key,\"-->\",temp.value,\" \", end=\" \")\n",
    "            temp = temp.next\n",
    "\n",
    "    def size(self):\n",
    "\n",
    "        temp = self.head\n",
    "        counter = 0\n",
    "    \n",
    "        while temp != None:\n",
    "            counter += 1\n",
    "            temp = temp.next\n",
    "        return counter\n",
    "\n",
    "    def search(self,key):\n",
    "\n",
    "        temp = self.head\n",
    "        pos = 0\n",
    "\n",
    "        while temp != None:\n",
    "            if temp.key == key:\n",
    "                return pos\n",
    "\n",
    "            temp = temp.next\n",
    "            pos += 1\n",
    "        return -1\n",
    "\n",
    "    def get_node_at_index(self,index):\n",
    "        temp = self.head\n",
    "        counter = 0\n",
    "        \n",
    "        while temp is not None:\n",
    "            if counter == index:\n",
    "                return temp\n",
    "            temp = temp.next\n",
    "            counter+=1"
   ]
  },
  {
   "cell_type": "code",
   "execution_count": 3,
   "id": "3e675c08-c186-43f6-9854-b0839b11554b",
   "metadata": {},
   "outputs": [],
   "source": [
    "class Dictionary:\n",
    "\n",
    "    def __init__(self, capacity):\n",
    "\n",
    "        self.capacity = capacity\n",
    "        self.size = 0\n",
    "        #create array of linked list\n",
    "\n",
    "        self.buckets = self.make_array(self.capacity)\n",
    "\n",
    "    def make_array(self, capacity):\n",
    "\n",
    "        L = []\n",
    "\n",
    "        for i in range(capacity):\n",
    "            L.append(LL())\n",
    "\n",
    "        return L\n",
    "        \n",
    "    def __setitem__(self,key,value):  #magic methods\n",
    "        self.put(key,value)\n",
    "\n",
    "    def __getitem__(self,key):   #magic methods\n",
    "        return self.get(key)\n",
    "\n",
    "    def __delitem__(self,key):  #magic methods  #del D1[\"Python\"]\n",
    "        bucket_index = self.hash_function(key) \n",
    "    \n",
    "        self.buckets[bucket_index].remove(key) #magic methods\n",
    "\n",
    "    def __str__(self):\n",
    "        for i in self.buckets:\n",
    "          i.traverse()\n",
    "    \n",
    "        return \"\"\n",
    "\n",
    "    def __len__(self):\n",
    "        return self.size\n",
    "\n",
    "    def get(self, key):\n",
    "\n",
    "        bucket_index = self.hash_function(key)\n",
    "\n",
    "        res = self.buckets[bucket_index].search(key)\n",
    "\n",
    "        if res == -1:\n",
    "            return -1\n",
    "        else:\n",
    "            node = self.buckets[bucket_index].get_node_at_index(res)\n",
    "            return node.value\n",
    "            \n",
    "        \n",
    "    def put(self, key, value):\n",
    "\n",
    "        bucket_index = self.hash_function(key)\n",
    "\n",
    "        node_index = self.get_node_index(bucket_index, key)\n",
    "\n",
    "        if node_index == -1:\n",
    "            #insert\n",
    "            self.buckets[bucket_index].add(key, value)\n",
    "            self.size +=1\n",
    "\n",
    "            load_factor = self.size/self.capacity\n",
    "            print(load_factor)\n",
    "\n",
    "            if (load_factor >= 2):\n",
    "                self.rehash()\n",
    "        \n",
    "        else:\n",
    "            #update\n",
    "            node = self.buckets[bucket_index].get_node_at_index(node_index)\n",
    "            node.value = value\n",
    "\n",
    "\n",
    "    def rehash(self):\n",
    "        self.capacity = self.capacity *2\n",
    "        old_buckets = self.buckets\n",
    "        self.size = 0\n",
    "        self.buckets = self.make_array(self.capacity)\n",
    "\n",
    "        for i in old_buckets:\n",
    "            for j in range(i.size()):\n",
    "                node = i.get_node_at_index(j)\n",
    "                key_item = node.key\n",
    "                value_item = node.value\n",
    "                self.put(key_item, value_item)\n",
    "                \n",
    "\n",
    "    def get_node_index(self, bucket_index, key):\n",
    "\n",
    "        node_index = self.buckets[bucket_index].search(key)\n",
    "\n",
    "        return node_index\n",
    "\n",
    "    def hash_function(self, key):\n",
    "        return abs(hash(key)) % self.capacity\n",
    "        "
   ]
  },
  {
   "cell_type": "code",
   "execution_count": 4,
   "id": "4be9720b-dcc2-47cf-977d-b87b959fa540",
   "metadata": {},
   "outputs": [],
   "source": [
    "L = []\n",
    "\n",
    "for i in range(3):\n",
    "    L.append(LL())"
   ]
  },
  {
   "cell_type": "code",
   "execution_count": 5,
   "id": "cdfeb727-2e31-4541-a427-5e809843b3de",
   "metadata": {},
   "outputs": [
    {
     "data": {
      "text/plain": [
       "[<__main__.LL at 0x1ff3e06bf70>,\n",
       " <__main__.LL at 0x1ff3e081070>,\n",
       " <__main__.LL at 0x1ff3e081d30>]"
      ]
     },
     "execution_count": 5,
     "metadata": {},
     "output_type": "execute_result"
    }
   ],
   "source": [
    "L"
   ]
  },
  {
   "cell_type": "code",
   "execution_count": 6,
   "id": "4cb570b8-cd60-479b-b4c5-673edc59bca6",
   "metadata": {},
   "outputs": [],
   "source": [
    "L[0].traverse()"
   ]
  },
  {
   "cell_type": "code",
   "execution_count": 7,
   "id": "8278b8d9-28e5-49dc-b626-04442ad79b6a",
   "metadata": {},
   "outputs": [],
   "source": [
    "L = [LL()]* 3"
   ]
  },
  {
   "cell_type": "code",
   "execution_count": 8,
   "id": "a4b652b2-8f3c-48ee-aac7-889b4ec01771",
   "metadata": {},
   "outputs": [
    {
     "data": {
      "text/plain": [
       "[<__main__.LL at 0x1ff3e081130>,\n",
       " <__main__.LL at 0x1ff3e081130>,\n",
       " <__main__.LL at 0x1ff3e081130>]"
      ]
     },
     "execution_count": 8,
     "metadata": {},
     "output_type": "execute_result"
    }
   ],
   "source": [
    "L # same address"
   ]
  },
  {
   "cell_type": "code",
   "execution_count": 9,
   "id": "29289a40-b451-4840-8026-14918d8f0ad1",
   "metadata": {},
   "outputs": [],
   "source": [
    "l = LL()"
   ]
  },
  {
   "cell_type": "code",
   "execution_count": 10,
   "id": "4b632dd7-f3f4-4284-afe3-947fc7e3e145",
   "metadata": {},
   "outputs": [],
   "source": [
    "l.add(2,3)"
   ]
  },
  {
   "cell_type": "code",
   "execution_count": 11,
   "id": "0f5036b1-e07e-450d-90f9-b78d8277be18",
   "metadata": {},
   "outputs": [],
   "source": [
    "l.add(4,5)"
   ]
  },
  {
   "cell_type": "code",
   "execution_count": 12,
   "id": "4b06bc1c-29cd-41f3-8390-225887e3258a",
   "metadata": {},
   "outputs": [
    {
     "name": "stdout",
     "output_type": "stream",
     "text": [
      "2 --> 3   4 --> 5   "
     ]
    }
   ],
   "source": [
    "l.traverse()"
   ]
  },
  {
   "cell_type": "code",
   "execution_count": 13,
   "id": "7cc54dc5-eeb2-4b6c-9aef-7d79f825403c",
   "metadata": {},
   "outputs": [
    {
     "data": {
      "text/plain": [
       "3"
      ]
     },
     "execution_count": 13,
     "metadata": {},
     "output_type": "execute_result"
    }
   ],
   "source": [
    "l.get_node_at_index(0).value"
   ]
  },
  {
   "cell_type": "code",
   "execution_count": 14,
   "id": "46f84d55-d805-4c1c-8576-9411984c5a1c",
   "metadata": {},
   "outputs": [],
   "source": [
    "D1 = Dictionary(2)"
   ]
  },
  {
   "cell_type": "code",
   "execution_count": 15,
   "id": "aed49d4e-d804-4d2c-9f90-22e96f410236",
   "metadata": {},
   "outputs": [
    {
     "name": "stdout",
     "output_type": "stream",
     "text": [
      "0.5\n",
      "1.0\n"
     ]
    }
   ],
   "source": [
    "D1.put(\"PHP\", 1000)\n",
    "D1.put(\"Python\", 1000)"
   ]
  },
  {
   "cell_type": "code",
   "execution_count": 16,
   "id": "3890679a-d26e-46bc-8bf8-4191ca18d808",
   "metadata": {},
   "outputs": [
    {
     "data": {
      "text/plain": [
       "[<__main__.LL at 0x1ff3e12d2e0>, <__main__.LL at 0x1ff3e12d2b0>]"
      ]
     },
     "execution_count": 16,
     "metadata": {},
     "output_type": "execute_result"
    }
   ],
   "source": [
    "D1.buckets"
   ]
  },
  {
   "cell_type": "code",
   "execution_count": 17,
   "id": "29513fd0-5fcb-436b-803f-d4ab5de6ab12",
   "metadata": {},
   "outputs": [],
   "source": [
    "D1.buckets[1].traverse()"
   ]
  },
  {
   "cell_type": "code",
   "execution_count": 18,
   "id": "0918908a-892c-4848-beb0-4ab80c1f49ec",
   "metadata": {},
   "outputs": [
    {
     "name": "stdout",
     "output_type": "stream",
     "text": [
      "1.5\n"
     ]
    }
   ],
   "source": [
    "D1.put(\"Java\", 5)"
   ]
  },
  {
   "cell_type": "code",
   "execution_count": 19,
   "id": "e53c43ee-b0d9-4d5b-9a15-6d1f4fe4953e",
   "metadata": {},
   "outputs": [
    {
     "name": "stdout",
     "output_type": "stream",
     "text": [
      "2.0\n",
      "0.25\n",
      "0.5\n",
      "0.75\n",
      "1.0\n"
     ]
    }
   ],
   "source": [
    "D1.put(\"HTML\", 5)"
   ]
  },
  {
   "cell_type": "code",
   "execution_count": 20,
   "id": "d906bc90-f102-448d-85df-e353c178f80b",
   "metadata": {},
   "outputs": [
    {
     "name": "stdout",
     "output_type": "stream",
     "text": [
      "1.25\n"
     ]
    }
   ],
   "source": [
    "D1.put(\"C++\", 5)"
   ]
  },
  {
   "cell_type": "code",
   "execution_count": 21,
   "id": "0e3d798b-9dd7-4c66-8346-a405e6d0d0b5",
   "metadata": {},
   "outputs": [
    {
     "name": "stdout",
     "output_type": "stream",
     "text": [
      "1.5\n"
     ]
    }
   ],
   "source": [
    "D1.put(\"C\", 5)"
   ]
  },
  {
   "cell_type": "code",
   "execution_count": 22,
   "id": "0814f3f3-888d-4668-be93-b55add0c27b9",
   "metadata": {},
   "outputs": [
    {
     "name": "stdout",
     "output_type": "stream",
     "text": [
      "1.75\n"
     ]
    }
   ],
   "source": [
    "D1.put(\"Javascript\", 5)"
   ]
  },
  {
   "cell_type": "code",
   "execution_count": 23,
   "id": "729c8951-2e4d-4699-b968-162dafd3b286",
   "metadata": {},
   "outputs": [
    {
     "name": "stdout",
     "output_type": "stream",
     "text": [
      "PHP --> 1000   Python --> 1000   Java --> 5   "
     ]
    }
   ],
   "source": [
    "D1.buckets[0].traverse()"
   ]
  },
  {
   "cell_type": "code",
   "execution_count": 24,
   "id": "9efe5f5a-9908-4dea-a6eb-c7e6b857c8e3",
   "metadata": {},
   "outputs": [
    {
     "data": {
      "text/plain": [
       "7"
      ]
     },
     "execution_count": 24,
     "metadata": {},
     "output_type": "execute_result"
    }
   ],
   "source": [
    "D1.size"
   ]
  },
  {
   "cell_type": "code",
   "execution_count": 25,
   "id": "e0106181-0dbb-4b37-9a45-54f1573fa7d2",
   "metadata": {},
   "outputs": [
    {
     "data": {
      "text/plain": [
       "[<__main__.LL at 0x1ff3e12d520>,\n",
       " <__main__.LL at 0x1ff3e12d3d0>,\n",
       " <__main__.LL at 0x1ff3e12da90>,\n",
       " <__main__.LL at 0x1ff3e12d1c0>]"
      ]
     },
     "execution_count": 25,
     "metadata": {},
     "output_type": "execute_result"
    }
   ],
   "source": [
    "D1.buckets"
   ]
  },
  {
   "cell_type": "code",
   "execution_count": 26,
   "id": "eae37b63-b032-45b8-9a2b-454e3c4ef62a",
   "metadata": {},
   "outputs": [],
   "source": [
    "D1['C'] = 10"
   ]
  },
  {
   "cell_type": "code",
   "execution_count": 27,
   "id": "34a1de8c-5d93-4c39-8524-9e989205749f",
   "metadata": {},
   "outputs": [],
   "source": [
    "del D1['C']"
   ]
  },
  {
   "cell_type": "code",
   "execution_count": 28,
   "id": "52c7c56d-a72e-4c13-9db5-00d8ad48d3d2",
   "metadata": {},
   "outputs": [
    {
     "name": "stdout",
     "output_type": "stream",
     "text": [
      "PHP --> 1000   Python --> 1000   Java --> 5   HTML --> 5   Javascript --> 5   C++ --> 5   \n"
     ]
    }
   ],
   "source": [
    "print(D1)"
   ]
  },
  {
   "cell_type": "code",
   "execution_count": null,
   "id": "22fe4f2f-2151-4ff5-8dd9-51bf8e69ebfd",
   "metadata": {},
   "outputs": [],
   "source": []
  }
 ],
 "metadata": {
  "kernelspec": {
   "display_name": "Python 3 (ipykernel)",
   "language": "python",
   "name": "python3"
  },
  "language_info": {
   "codemirror_mode": {
    "name": "ipython",
    "version": 3
   },
   "file_extension": ".py",
   "mimetype": "text/x-python",
   "name": "python",
   "nbconvert_exporter": "python",
   "pygments_lexer": "ipython3",
   "version": "3.8.10"
  }
 },
 "nbformat": 4,
 "nbformat_minor": 5
}
