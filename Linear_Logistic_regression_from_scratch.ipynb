{
 "cells": [
  {
   "cell_type": "markdown",
   "id": "6a209353",
   "metadata": {},
   "source": [
    "### Linear Regression Implementation using Gradient Descent"
   ]
  },
  {
   "cell_type": "code",
   "execution_count": 1,
   "id": "55216d1f",
   "metadata": {},
   "outputs": [
    {
     "data": {
      "text/plain": [
       "'An m+1 dimensional data set, of size n, consisting of m continuous independent variables (X) and one dependent variable (Y) defined as yi = xiβ + e where \\n\\n● e is a Gaussian distribution with mean 0 and standard deviation (σ), representing the unexplained variation in Y \\n● β is a random vector of dimensionality m + 1, representing the coefficients of the linear relationship between X and Y, \\n\\nand ∀i ∈ [1, n], xi0 = 1 The function should take the following parameters: \\n• σ: The spread of noise in the output variable \\n\\n• n: The size of the data set \\n\\n• m: number of independent variables Output from the function should be: \\n\\n• X: An n × m+1 numpy array of independent variable values (with a 1 in the first column) \\n\\n• Y: The n × 1 numpy array of output values \\n\\n• β: The random coefficients used to generate Y from X.'"
      ]
     },
     "execution_count": 1,
     "metadata": {},
     "output_type": "execute_result"
    }
   ],
   "source": [
    "##A function to generate \n",
    "\"\"\"An m+1 dimensional data set, of size n, consisting of m continuous independent variables (X) and one dependent variable (Y) defined as yi = xiβ + e where \n",
    "\n",
    "● e is a Gaussian distribution with mean 0 and standard deviation (σ), representing the unexplained variation in Y \n",
    "● β is a random vector of dimensionality m + 1, representing the coefficients of the linear relationship between X and Y, \n",
    "\n",
    "and ∀i ∈ [1, n], xi0 = 1 The function should take the following parameters: \n",
    "• σ: The spread of noise in the output variable \n",
    "\n",
    "• n: The size of the data set \n",
    "\n",
    "• m: number of independent variables Output from the function should be: \n",
    "\n",
    "• X: An n × m+1 numpy array of independent variable values (with a 1 in the first column) \n",
    "\n",
    "• Y: The n × 1 numpy array of output values \n",
    "\n",
    "• β: The random coefficients used to generate Y from X.\"\"\""
   ]
  },
  {
   "cell_type": "code",
   "execution_count": 1,
   "id": "335d7b33",
   "metadata": {},
   "outputs": [],
   "source": [
    "import numpy as np\n",
    "import pandas as pd\n",
    "def generator(n, m, sigma):\n",
    "    X = np.random.rand(n,m+1)\n",
    "    X[:,0] = 1\n",
    "    print(\"X shape\", X.shape)\n",
    "    \n",
    "    e = np.random.normal(0, sigma, (n,1))  #gaussian distribution\n",
    "    print(\"error shape\", e.shape)\n",
    "    \n",
    "    beta = np.random.rand(m+1,1)\n",
    "    print(\"Beta shape\", beta.shape)\n",
    "    \n",
    "    \n",
    "    y = np.matmul(X, beta) + e\n",
    "    print(\"y shape\", y.shape)\n",
    "    \n",
    "    return X, y, beta"
   ]
  },
  {
   "cell_type": "code",
   "execution_count": 3,
   "id": "10a76b35",
   "metadata": {},
   "outputs": [
    {
     "name": "stdout",
     "output_type": "stream",
     "text": [
      "X shape (1000, 2)\n",
      "error shape (1000, 1)\n",
      "Beta shape (2, 1)\n",
      "y shape (1000, 1)\n"
     ]
    }
   ],
   "source": [
    "X, y, beta = generator(1000,1,0.2)"
   ]
  },
  {
   "cell_type": "code",
   "execution_count": 4,
   "id": "6f5e28f2",
   "metadata": {},
   "outputs": [
    {
     "data": {
      "text/html": [
       "<div>\n",
       "<style scoped>\n",
       "    .dataframe tbody tr th:only-of-type {\n",
       "        vertical-align: middle;\n",
       "    }\n",
       "\n",
       "    .dataframe tbody tr th {\n",
       "        vertical-align: top;\n",
       "    }\n",
       "\n",
       "    .dataframe thead th {\n",
       "        text-align: right;\n",
       "    }\n",
       "</style>\n",
       "<table border=\"1\" class=\"dataframe\">\n",
       "  <thead>\n",
       "    <tr style=\"text-align: right;\">\n",
       "      <th></th>\n",
       "      <th>X0</th>\n",
       "      <th>X1</th>\n",
       "    </tr>\n",
       "  </thead>\n",
       "  <tbody>\n",
       "    <tr>\n",
       "      <th>0</th>\n",
       "      <td>1.0</td>\n",
       "      <td>0.976972</td>\n",
       "    </tr>\n",
       "    <tr>\n",
       "      <th>1</th>\n",
       "      <td>1.0</td>\n",
       "      <td>0.676517</td>\n",
       "    </tr>\n",
       "    <tr>\n",
       "      <th>2</th>\n",
       "      <td>1.0</td>\n",
       "      <td>0.655149</td>\n",
       "    </tr>\n",
       "    <tr>\n",
       "      <th>3</th>\n",
       "      <td>1.0</td>\n",
       "      <td>0.090060</td>\n",
       "    </tr>\n",
       "    <tr>\n",
       "      <th>4</th>\n",
       "      <td>1.0</td>\n",
       "      <td>0.232753</td>\n",
       "    </tr>\n",
       "    <tr>\n",
       "      <th>...</th>\n",
       "      <td>...</td>\n",
       "      <td>...</td>\n",
       "    </tr>\n",
       "    <tr>\n",
       "      <th>995</th>\n",
       "      <td>1.0</td>\n",
       "      <td>0.155100</td>\n",
       "    </tr>\n",
       "    <tr>\n",
       "      <th>996</th>\n",
       "      <td>1.0</td>\n",
       "      <td>0.551306</td>\n",
       "    </tr>\n",
       "    <tr>\n",
       "      <th>997</th>\n",
       "      <td>1.0</td>\n",
       "      <td>0.510215</td>\n",
       "    </tr>\n",
       "    <tr>\n",
       "      <th>998</th>\n",
       "      <td>1.0</td>\n",
       "      <td>0.158501</td>\n",
       "    </tr>\n",
       "    <tr>\n",
       "      <th>999</th>\n",
       "      <td>1.0</td>\n",
       "      <td>0.763106</td>\n",
       "    </tr>\n",
       "  </tbody>\n",
       "</table>\n",
       "<p>1000 rows × 2 columns</p>\n",
       "</div>"
      ],
      "text/plain": [
       "      X0        X1\n",
       "0    1.0  0.976972\n",
       "1    1.0  0.676517\n",
       "2    1.0  0.655149\n",
       "3    1.0  0.090060\n",
       "4    1.0  0.232753\n",
       "..   ...       ...\n",
       "995  1.0  0.155100\n",
       "996  1.0  0.551306\n",
       "997  1.0  0.510215\n",
       "998  1.0  0.158501\n",
       "999  1.0  0.763106\n",
       "\n",
       "[1000 rows x 2 columns]"
      ]
     },
     "execution_count": 4,
     "metadata": {},
     "output_type": "execute_result"
    }
   ],
   "source": [
    "data = pd.DataFrame({\"X0\": X[:, 0], 'X1': X[:,1]})\n",
    "data"
   ]
  },
  {
   "cell_type": "code",
   "execution_count": 5,
   "id": "c47acf2b",
   "metadata": {},
   "outputs": [
    {
     "data": {
      "image/png": "[encoded data removed]",
      "text/plain": [
       "<Figure size 432x288 with 1 Axes>"
      ]
     },
     "metadata": {
      "needs_background": "light"
     },
     "output_type": "display_data"
    }
   ],
   "source": [
    "import matplotlib.pyplot as plt\n",
    "plt.scatter(data['X1'], y)\n",
    "plt.show()"
   ]
  },
  {
   "cell_type": "markdown",
   "id": "57f27b06",
   "metadata": {},
   "source": [
    "#### Define the cost funtion  MSE "
   ]
  },
  {
   "cell_type": "code",
   "execution_count": 6,
   "id": "2a8b0088",
   "metadata": {},
   "outputs": [],
   "source": [
    "def mean_squared_error(pred_y, y, n):\n",
    "        cost = (1/(n)) * np.sum((y - pred_y)**2)\n",
    "        return cost"
   ]
  },
  {
   "cell_type": "markdown",
   "id": "5f76fce5",
   "metadata": {},
   "source": [
    "### Defining the Gradient Descent of MSE"
   ]
  },
  {
   "cell_type": "code",
   "execution_count": 7,
   "id": "3565c335",
   "metadata": {},
   "outputs": [],
   "source": [
    "def gradient(X, y, pred_y, n):\n",
    "    gradient = (-2/n) * np.matmul(X.T, (y-pred_y))\n",
    "    return gradient"
   ]
  },
  {
   "cell_type": "code",
   "execution_count": null,
   "id": "588f2438",
   "metadata": {},
   "outputs": [],
   "source": []
  },
  {
   "cell_type": "code",
   "execution_count": 12,
   "id": "da78ac3f",
   "metadata": {},
   "outputs": [],
   "source": [
    "def regression(x, y, epochs, thresold):\n",
    "    \"\"\"\n",
    "    This function implements the gradient descent for linear regression\n",
    "    \n",
    "    Parameters:\n",
    "    x input data\n",
    "    y actual data\n",
    "    \"\"\"\n",
    "    \n",
    "    learning_rate = 0.001\n",
    "    #x.shape = (n,m)\n",
    "    n = x.shape[0]\n",
    "    m = x.shape[1]\n",
    "    print(n,m)\n",
    "    \n",
    "    weight = np.random.rand(m, 1)*learning_rate\n",
    "    \n",
    "    pre_cost = float('inf') #initial cost\n",
    "    \n",
    "    for i in range(epochs):\n",
    "        #y = x*beta\n",
    "        pred_y = np.matmul(x, weight)\n",
    "        cost = mean_squared_error(pred_y, y, n)\n",
    "        if i == 0:\n",
    "            print(\"Cost at epoch - 1: \", cost)\n",
    "        if abs(pre_cost - cost) <= thresold:\n",
    "            print(\"thresold reached at epoch\", i)\n",
    "            break\n",
    "            \n",
    "        pre_cost = cost #updating new cost value\n",
    "        \n",
    "        gd = gradient(x, y, pred_y, n) # finding gradient\n",
    "        \n",
    "        weight = weight - learning_rate*gd\n",
    "        \n",
    "        # value = value-lr*gd\n",
    "        #print(\"weight shape\": weight.shape)\n",
    "    return pre_cost, weight"
   ]
  },
  {
   "cell_type": "code",
   "execution_count": 13,
   "id": "de5185a7",
   "metadata": {},
   "outputs": [
    {
     "name": "stdout",
     "output_type": "stream",
     "text": [
      "X shape (500, 6)\n",
      "error shape (500, 1)\n",
      "Beta shape (6, 1)\n",
      "y shape (500, 1)\n",
      "500 6\n",
      "Cost at epoch - 1:  3.205968087227863\n",
      "final_cost 0.577308476469194\n"
     ]
    }
   ],
   "source": [
    "X, y, beta = generator(500, 5, 0.2)\n",
    "final_cost, weight = regression(X, y, 200, 0.0002)\n",
    "print(\"final_cost\", final_cost)"
   ]
  },
  {
   "cell_type": "code",
   "execution_count": 10,
   "id": "11edc0fc",
   "metadata": {},
   "outputs": [
    {
     "name": "stdout",
     "output_type": "stream",
     "text": [
      "X shape (500, 6)\n",
      "error shape (500, 1)\n",
      "Beta shape (6, 1)\n",
      "y shape (500, 1)\n"
     ]
    }
   ],
   "source": [
    "X, y, beta = generator(500, 5, 0.2)"
   ]
  },
  {
   "cell_type": "code",
   "execution_count": 11,
   "id": "c61e0bbb",
   "metadata": {},
   "outputs": [
    {
     "name": "stdout",
     "output_type": "stream",
     "text": [
      "500 6\n"
     ]
    }
   ],
   "source": [
    "regression(X, y, 200, 0.0002)"
   ]
  },
  {
   "cell_type": "markdown",
   "id": "bac9968d",
   "metadata": {},
   "source": [
    "#### Logistic Regression Implementation"
   ]
  },
  {
   "cell_type": "code",
   "execution_count": 21,
   "id": "42a71cb0",
   "metadata": {},
   "outputs": [],
   "source": [
    "import numpy as np"
   ]
  },
  {
   "cell_type": "code",
   "execution_count": 54,
   "id": "4c8bc7be",
   "metadata": {},
   "outputs": [],
   "source": [
    "def generate_data(noise_args, n, m, beta = None):\n",
    "    \"\"\"generate sample data for training\n",
    "    logistic regression model\n",
    "    Args:\n",
    "        noise_args (dict): dict containing noise distribution parameters\n",
    "        n (int): number of training samples in the data\n",
    "        m (int): number of features in the sample \n",
    "        beta (np.array): only provided if validation data is to be sampled\n",
    "    returns:\n",
    "    X, Y, beta: Features, Labels, coefficients\n",
    "    \"\"\"\n",
    "    #n * [m+1] = features\n",
    "    # n*1 = labels\n",
    "    #m0, m1, m2 ........mm\n",
    "    #1, x1, x2,  x3 ......xm y\n",
    "    #1, x1, x2,  x3 ......xm y\n",
    "    #1, x1, x2,  x3 ......xm y\n",
    "    #1, x1, x2,  x3 ......xm y\n",
    "    \n",
    "    #.....\n",
    "    #go upto n rows\n",
    "    X = np.ones(shape = (n,1)) # (n no of rows)\n",
    "    X = np.concatenate((X, np.random.randn(n,m)), axis = 1) #[n, m+1] (n = rows, m = cols)\n",
    "    \n",
    "    #x.shape = n,m+1\n",
    "    #y_cap = sigmoid(x - weight(betas)) [0,1]\n",
    "    if beta is None:\n",
    "        beta = np.random.rand(m+1) #[m+1]\n",
    "        \n",
    "    #y 0 or 1 (bias 0 : 0.2, 1 : 0.8)\n",
    "    theta = noise_args['theta']\n",
    "    # y = [0.1,0.4,0.5,0.7.....]\n",
    "    \n",
    "    Y = sigmoid(np.dot(X, beta)) >=0.5\n",
    "    Y = Y.astype(int)\n",
    "    \n",
    "    # Y = [0,0,1,1] n = 100\n",
    "    \n",
    "    #inject Bernoulli noise\n",
    "    # n = 100\n",
    "    noise = np.random.binomial(n = 1, p=theta, size = n)  #p = 0 sucess 100%\n",
    "    # [0,0,1,1] + [0, 1, 1, 0]\n",
    "    \n",
    "    Y = Y+noise\n",
    "    # [0,1,2,1]\n",
    "    Y %= 2 \n",
    "    # [0,1,0,1]\n",
    "    return X, Y, beta"
   ]
  },
  {
   "cell_type": "code",
   "execution_count": 79,
   "id": "6b7d43dc",
   "metadata": {},
   "outputs": [],
   "source": [
    "def accuracy(y_true, y_pred):\n",
    "    return np.sum(y_pred == y_true)/len(y_true)\n",
    "\n",
    "\n",
    "def log_loss(y_true, y_pred):\n",
    "    return -np.mean(y_true * np.log(y_pred) + (1-y_true)*np.log(1-y_pred)) # -0.5\n",
    "\n",
    "\n",
    "def sigmoid(z):\n",
    "    return 1/(1 + np.exp(-z))"
   ]
  },
  {
   "cell_type": "code",
   "execution_count": 80,
   "id": "42551647",
   "metadata": {},
   "outputs": [],
   "source": [
    "def reg_term(reg_type, beta):\n",
    "    if reg_type == \"l2\":\n",
    "        return np.sum(beta ** 2)\n",
    "    elif reg_type == \"l1\":\n",
    "        return np.sum(np.abs(beta))\n",
    "    else:\n",
    "        return 0\n",
    "\n",
    "def logistic_regression(X, Y, k, tau, lr, val_data, reg_constant, reg_type) :\n",
    "\n",
    "    \"\"\"\n",
    "    logistic regression classifier implementation\n",
    "    Args:\n",
    "        X (np.array) : Features\n",
    "        Y (np.array): Labels\n",
    "        k (int): number of itrations\n",
    "        tau (float): threshold to halt training\n",
    "        lr (float): learning rate: called lambda in problem prompt\n",
    "        val_data (dict): contains validation Features, and Labels \n",
    "        Returns:\n",
    "        beta, cost: learnt coefficients, cost on validation set\n",
    "    \"\"\"\n",
    "\n",
    "    beta = np.random.rand(X.shape[1]) # (m + 1)\n",
    "    prev_cost = np.inf\n",
    "    X_val, Y_val = val_data[\"X\"], val_data[\"Y\"]\n",
    "    \n",
    "    for epoch in range(k):\n",
    "        y_hat = sigmoid(np.dot(X, beta)) #1st step the model has not learnt\n",
    "        if reg_type == \"l1\":\n",
    "            derivative = np.dot(X.T, (Y - y_hat)) - reg_constant * np.abs(beta) / beta\n",
    "        elif reg_type == \"l2\":\n",
    "            derivative = np.dot(X.T, (Y - y_hat)) - reg_constant * beta\n",
    "        else:\n",
    "            derivative = np.dot(X.T, (Y - y_hat))\n",
    "        drv = -lr/len(X) * derivative\n",
    "        beta = beta - drv\n",
    "        \n",
    "        cost = log_loss(y_true = Y, y_pred = y_hat)\n",
    "        if epoch%50 == 0:\n",
    "            print(f\"cost at {epoch} epochs: {cost}\")\n",
    "        if prev_cost - cost <= tau: # (10-9.999999)\n",
    "            break\n",
    "        prev_cost = cost\n",
    "        \n",
    "    y_hat_val = sigmoid(np.dot(X_val, beta))\n",
    "    cost = log_loss(y_true = Y_val, y_pred = y_hat_val)\n",
    "    y_hat_val_hard = (y_hat_val >= 0.5).astype(int)\n",
    "    accuracy_ = accuracy(y_true = Y_val, y_pred = y_hat_val_hard)\n",
    "    return beta, cost, accuracy_"
   ]
  },
  {
   "cell_type": "code",
   "execution_count": 81,
   "id": "46e1fa1f",
   "metadata": {},
   "outputs": [],
   "source": [
    "args = {\n",
    "    \"theta\":0.2\n",
    "}\n",
    "X, Y, beta = generate_data(noise_args = args, n = 10_000, m = 12)\n",
    "X_val, Y_val,_ = generate_data(beta = beta, n = 10_000, noise_args = args, m = 12)"
   ]
  },
  {
   "cell_type": "code",
   "execution_count": 84,
   "id": "d04148c3",
   "metadata": {},
   "outputs": [
    {
     "name": "stdout",
     "output_type": "stream",
     "text": [
      "cost at 0 epochs: 0.7083342051909701\n",
      "cost at 50 epochs: 0.5678080057264466\n",
      "validation accuracy: 0.7901\n",
      "validation cost 0.5660898785005322\n"
     ]
    }
   ],
   "source": [
    "val_data = {\"X\": X_val,\n",
    "           \"Y\": Y_val}\n",
    "\n",
    "estimated_beta, cost, accuracy_ = logistic_regression(X = X, Y = Y, k = 300, tau = 1e-30,\n",
    "                                                     lr = 0.7, val_data = val_data, reg_constant = 1,\n",
    "                                                     reg_type = \"l1\")\n",
    "\n",
    "print(\"validation accuracy:\", accuracy_)\n",
    "print(\"validation cost\", cost)"
   ]
  },
  {
   "cell_type": "code",
   "execution_count": null,
   "id": "5a14e85d",
   "metadata": {},
   "outputs": [],
   "source": []
  },
  {
   "cell_type": "code",
   "execution_count": null,
   "id": "ebab5ce0",
   "metadata": {},
   "outputs": [],
   "source": []
  }
 ],
 "metadata": {
  "kernelspec": {
   "display_name": "Python 3 (ipykernel)",
   "language": "python",
   "name": "python3"
  },
  "language_info": {
   "codemirror_mode": {
    "name": "ipython",
    "version": 3
   },
   "file_extension": ".py",
   "mimetype": "text/x-python",
   "name": "python",
   "nbconvert_exporter": "python",
   "pygments_lexer": "ipython3",
   "version": "3.7.3"
  }
 },
 "nbformat": 4,
 "nbformat_minor": 5
}
