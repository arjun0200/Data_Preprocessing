{
 "cells": [
  {
   "cell_type": "markdown",
   "id": "45e8552d",
   "metadata": {},
   "source": [
    "### Question 1"
   ]
  },
  {
   "cell_type": "code",
   "execution_count": 295,
   "id": "951344d2",
   "metadata": {},
   "outputs": [
    {
     "name": "stdout",
     "output_type": "stream",
     "text": [
      "Enter no of steps:-3\n",
      "Please enter input:-2\n",
      "Output of the function 4\n",
      "Please enter input:-3\n",
      "Output of the function 7\n",
      "Please enter input:-4\n",
      "Output of the function 9\n"
     ]
    }
   ],
   "source": [
    "dpsum = [0 for _ in range(300000)]\n",
    "dpsum[1] = 0\n",
    "for i in range(2,300000):\n",
    "    dpsum[i] = (dpsum[i-1] + math.log(i))\n",
    "    t = int(input(\"Enter no of steps:-\"))\n",
    "    while t>0:\n",
    "        t -=1\n",
    "        a = int(input(\"Please enter input:-\"))\n",
    "        if a == 2:  # our range start from 2 hence a values not becomes larger\n",
    "            j = round(e**(math.log(a+1)))\n",
    "        else:\n",
    "            j = round(e**(math.log(a+a)))\n",
    "            ss = dpsum[j]/math.log(a)\n",
    "            while ss>j:\n",
    "                j -=1\n",
    "                ss = round(dpsum[j]/(math.log(a)))\n",
    "        print(\"Output of the function\",j+1)\n",
    "    break\n",
    "    "
   ]
  },
  {
   "cell_type": "markdown",
   "id": "bd01ed70",
   "metadata": {},
   "source": [
    "### Question 4"
   ]
  },
  {
   "cell_type": "code",
   "execution_count": 1,
   "id": "84fcb8d3",
   "metadata": {},
   "outputs": [
    {
     "name": "stdout",
     "output_type": "stream",
     "text": [
      "Please enter a string}{\n",
      "Changes:  2.0\n",
      "Please enter a string{}{}{}\n",
      "Changes:  0\n",
      "Please enter a string{{{}\n",
      "Changes:  1.0\n",
      "Please enter a string---\n"
     ]
    }
   ],
   "source": [
    "def change_func():\n",
    "    changes = 0\n",
    "    new= []\n",
    "    for i in range(len(given_str)):\n",
    "        \n",
    "        if given_str[i] == \"{\":\n",
    "            new.append(given_str[i])\n",
    "            \n",
    "        elif given_str[i]==\"}\":\n",
    "            if len(new) != 0:\n",
    "                new.pop()\n",
    "                \n",
    "            else:\n",
    "                new.append(\"{\")\n",
    "                changes = changes +1\n",
    "                \n",
    "    if len(new) != 0:\n",
    "        changes = changes + len(new)/2\n",
    "        \n",
    "    return changes  \n",
    "\n",
    "testcaseno=1\n",
    "while True:\n",
    "    given_str = input(\"Please enter a string\") \n",
    "    if given_str[0] == \"-\":\n",
    "        break\n",
    "        \n",
    "    else:\n",
    "        changes = change_func()\n",
    "        testcaseno = testcaseno+1\n",
    "        print(\"Changes: \", changes)"
   ]
  },
  {
   "cell_type": "markdown",
   "id": "8f54dac4",
   "metadata": {},
   "source": [
    "### Question 5"
   ]
  },
  {
   "cell_type": "code",
   "execution_count": 2,
   "id": "4543d0a2",
   "metadata": {},
   "outputs": [
    {
     "name": "stdout",
     "output_type": "stream",
     "text": [
      "Enter number of nodes: 4 4\n",
      "Enter number of fishnet: 1 2\n",
      "Enter number of fishnet: 2 3\n",
      "Enter number of fishnet: 3 4\n",
      "Enter number of fishnet: 4 1\n",
      "ImPerfect\n"
     ]
    }
   ],
   "source": [
    "node1, node2 = input(\"Enter number of nodes: \").split()\n",
    "if node1>=node2:\n",
    "    i = node1\n",
    "else:\n",
    "    i = node2\n",
    "i = int(i)\n",
    "l = [[i, i+1] for i in range(1,i)]\n",
    "l.append([i,1])\n",
    "for j in range(int(i)):\n",
    "    x, y = input(\"Enter number of fishnet: \").split()\n",
    "\n",
    "if x and y not in l[j]:\n",
    "    print(\"ImPerfect\")  \n",
    "elif x and y in l[j]:\n",
    "    print(\"Perfect\")"
   ]
  },
  {
   "cell_type": "code",
   "execution_count": null,
   "id": "13461911",
   "metadata": {},
   "outputs": [],
   "source": []
  }
 ],
 "metadata": {
  "kernelspec": {
   "display_name": "Python 3 (ipykernel)",
   "language": "python",
   "name": "python3"
  },
  "language_info": {
   "codemirror_mode": {
    "name": "ipython",
    "version": 3
   },
   "file_extension": ".py",
   "mimetype": "text/x-python",
   "name": "python",
   "nbconvert_exporter": "python",
   "pygments_lexer": "ipython3",
   "version": "3.7.3"
  }
 },
 "nbformat": 4,
 "nbformat_minor": 5
}
